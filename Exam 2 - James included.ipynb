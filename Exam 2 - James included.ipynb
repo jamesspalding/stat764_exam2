{
 "cells": [
  {
   "cell_type": "code",
   "execution_count": 10,
   "id": "c28e08b5-5242-4769-a4b1-54c2e4c2da91",
   "metadata": {},
   "outputs": [],
   "source": [
    "#imports\n",
    "import pandas as pd\n",
    "import numpy as np\n",
    "import warnings\n",
    "from sklearn.experimental import enable_iterative_imputer\n",
    "from sklearn.impute import IterativeImputer\n",
    "from sklearn.preprocessing import StandardScaler\n",
    "from sklearn.ensemble import RandomForestClassifier\n",
    "from sklearn.metrics import classification_report, accuracy_score, cohen_kappa_score,mean_squared_error\n",
    "from sklearn.model_selection import GridSearchCV, RandomizedSearchCV, train_test_split\n",
    "from sklearn.decomposition import PCA\n",
    "from pickle import dump,load\n",
    "from sklearn.svm import SVC\n",
    "from sklearn.tree import DecisionTreeClassifier\n",
    "from sklearn.cross_decomposition import PLSRegression\n",
    "from sklearn.linear_model import LinearRegression, ElasticNet\n",
    "\n",
    "\n",
    "def cohen_kappa_scorer(estimator, X, y):\n",
    "    y_pred = estimator.predict(X)\n",
    "    return cohen_kappa_score(y, y_pred)"
   ]
  },
  {
   "cell_type": "code",
   "execution_count": 11,
   "id": "c72964e1-5968-43e9-9e9f-2f31b1630deb",
   "metadata": {},
   "outputs": [],
   "source": [
    "##### Data #####\n",
    "data = pd.read_csv(r'C:\\Users\\annab\\OneDrive\\STAT 764\\Data Sets\\flight_data_full.csv')\n",
    "data = data.drop(['Unnamed: 0','air_time','year', 'month', 'day', 'dest', 'dep_time'],axis=1)\n",
    "\n",
    "\n",
    "#data for first model\n",
    "x = data.drop(['dep_delay', 'delay_severity', 'is_delayed'],axis=1)\n",
    "x = pd.get_dummies(x,dtype=int)\n",
    "y = data['is_delayed']\n",
    "x_train1, x_test1, y_train1, y_test1 = train_test_split(x,y,train_size=.7,random_state=764)"
   ]
  },
  {
   "cell_type": "code",
   "execution_count": 12,
   "id": "567a18f9-48a8-44aa-9a9a-c80b22fbcc59",
   "metadata": {},
   "outputs": [
    {
     "name": "stdout",
     "output_type": "stream",
     "text": [
      "Best parameters: {'ccp_alpha': 0.0, 'max_depth': None, 'min_impurity_decrease': 0.1, 'min_samples_split': 2}\n"
     ]
    }
   ],
   "source": [
    "dc = DecisionTreeClassifier(class_weight='balanced')\n",
    "\n",
    "param_grid = {\n",
    "    'max_depth': [None, 2, 5, 7, 10],\n",
    "    'min_samples_split': [2, 3, 5, 10, 20],\n",
    "    'min_impurity_decrease': [0.0, 0.01, 0.1],\n",
    "    'ccp_alpha': [0.0, 0.1, 0.2, 0.5, 0.7, 1.0] \n",
    "}\n",
    "\n",
    "grid_search = GridSearchCV(estimator=dc, param_grid=param_grid, cv=5, n_jobs=-1, verbose=0, scoring=cohen_kappa_scorer)\n",
    "\n",
    "grid_search.fit(x_train1, y_train1)\n",
    "best_tree = grid_search.best_estimator_\n",
    "y_pred = best_tree.predict(x_test1)\n",
    "best_params = grid_search.best_params_\n",
    "print(f\"Best parameters: {best_params}\")"
   ]
  },
  {
   "cell_type": "code",
   "execution_count": 13,
   "id": "9b9eea42-b1a0-4d4e-b8ef-1b543131b8c0",
   "metadata": {},
   "outputs": [
    {
     "name": "stderr",
     "output_type": "stream",
     "text": [
      "C:\\Users\\annab\\anaconda3\\Lib\\site-packages\\sklearn\\model_selection\\_validation.py:547: FitFailedWarning: \n",
      "35 fits failed out of a total of 140.\n",
      "The score on these train-test partitions for these parameters will be set to nan.\n",
      "If these failures are not expected, you can try to debug them by setting error_score='raise'.\n",
      "\n",
      "Below are more details about the failures:\n",
      "--------------------------------------------------------------------------------\n",
      "23 fits failed with the following error:\n",
      "Traceback (most recent call last):\n",
      "  File \"C:\\Users\\annab\\anaconda3\\Lib\\site-packages\\sklearn\\model_selection\\_validation.py\", line 895, in _fit_and_score\n",
      "    estimator.fit(X_train, y_train, **fit_params)\n",
      "  File \"C:\\Users\\annab\\anaconda3\\Lib\\site-packages\\sklearn\\base.py\", line 1467, in wrapper\n",
      "    estimator._validate_params()\n",
      "  File \"C:\\Users\\annab\\anaconda3\\Lib\\site-packages\\sklearn\\base.py\", line 666, in _validate_params\n",
      "    validate_parameter_constraints(\n",
      "  File \"C:\\Users\\annab\\anaconda3\\Lib\\site-packages\\sklearn\\utils\\_param_validation.py\", line 95, in validate_parameter_constraints\n",
      "    raise InvalidParameterError(\n",
      "sklearn.utils._param_validation.InvalidParameterError: The 'max_features' parameter of RandomForestClassifier must be an int in the range [1, inf), a float in the range (0.0, 1.0], a str among {'sqrt', 'log2'} or None. Got 'auto' instead.\n",
      "\n",
      "--------------------------------------------------------------------------------\n",
      "12 fits failed with the following error:\n",
      "Traceback (most recent call last):\n",
      "  File \"C:\\Users\\annab\\anaconda3\\Lib\\site-packages\\sklearn\\model_selection\\_validation.py\", line 895, in _fit_and_score\n",
      "    estimator.fit(X_train, y_train, **fit_params)\n",
      "  File \"C:\\Users\\annab\\anaconda3\\Lib\\site-packages\\sklearn\\base.py\", line 1467, in wrapper\n",
      "    estimator._validate_params()\n",
      "  File \"C:\\Users\\annab\\anaconda3\\Lib\\site-packages\\sklearn\\base.py\", line 666, in _validate_params\n",
      "    validate_parameter_constraints(\n",
      "  File \"C:\\Users\\annab\\anaconda3\\Lib\\site-packages\\sklearn\\utils\\_param_validation.py\", line 95, in validate_parameter_constraints\n",
      "    raise InvalidParameterError(\n",
      "sklearn.utils._param_validation.InvalidParameterError: The 'max_features' parameter of RandomForestClassifier must be an int in the range [1, inf), a float in the range (0.0, 1.0], a str among {'log2', 'sqrt'} or None. Got 'auto' instead.\n",
      "\n",
      "  warnings.warn(some_fits_failed_message, FitFailedWarning)\n",
      "C:\\Users\\annab\\anaconda3\\Lib\\site-packages\\sklearn\\model_selection\\_search.py:1051: UserWarning: One or more of the test scores are non-finite: [       nan        nan        nan        nan        nan        nan\n",
      "        nan 0.45738557 0.45738557 0.45738557 0.45738557 0.45738557\n",
      " 0.45738557 0.45738557 0.35809614 0.45738557 0.45738557 0.45738557\n",
      " 0.45738557 0.45738557 0.45738557 0.45738557 0.45738557 0.45738557\n",
      " 0.45738557 0.45738557 0.45738557 0.45738557]\n",
      "  warnings.warn(\n"
     ]
    },
    {
     "name": "stdout",
     "output_type": "stream",
     "text": [
      "0.45738556683933285\n",
      "Best parameters: {'max_features': 'sqrt', 'n_estimators': 50}\n"
     ]
    }
   ],
   "source": [
    "#Best parameters: {'ccp_alpha': 0.0, 'max_depth': None, 'min_impurity_decrease': 0.1, 'min_samples_split': 2}\n",
    "\n",
    "rf = RandomForestClassifier(class_weight='balanced',ccp_alpha=0,max_depth=None,min_impurity_decrease=0.1,min_samples_split=2)\n",
    "\n",
    "param_grid = {\n",
    "    'n_estimators': [50, 70, 90, 100, 150, 200, 300],\n",
    "    'max_features': ['auto', 'sqrt', 'log2', None]\n",
    "}\n",
    "\n",
    "grid_search = GridSearchCV(estimator=rf, param_grid=param_grid, cv=5, n_jobs=-1, verbose=0, scoring=cohen_kappa_scorer)\n",
    "\n",
    "grid_search.fit(x_train1, y_train1)\n",
    "best_tree = grid_search.best_estimator_\n",
    "print(grid_search.best_score_)\n",
    "y_pred = best_tree.predict(x_test1)\n",
    "best_params = grid_search.best_params_\n",
    "print(f\"Best parameters: {best_params}\")"
   ]
  },
  {
   "cell_type": "code",
   "execution_count": 14,
   "id": "dcc55b79-1511-43b0-a237-148d85e5f0a1",
   "metadata": {},
   "outputs": [
    {
     "name": "stdout",
     "output_type": "stream",
     "text": [
      "              precision    recall  f1-score   support\n",
      "\n",
      "           0       0.88      0.99      0.93      5595\n",
      "           1       0.85      0.32      0.47      1083\n",
      "\n",
      "    accuracy                           0.88      6678\n",
      "   macro avg       0.86      0.66      0.70      6678\n",
      "weighted avg       0.88      0.88      0.86      6678\n",
      "\n",
      "Adjusted Threshold Classification Report:\n",
      "               precision    recall  f1-score   support\n",
      "\n",
      "           0       0.95      0.77      0.85      5595\n",
      "           1       0.40      0.79      0.53      1083\n",
      "\n",
      "    accuracy                           0.77      6678\n",
      "   macro avg       0.67      0.78      0.69      6678\n",
      "weighted avg       0.86      0.77      0.80      6678\n",
      "\n"
     ]
    }
   ],
   "source": [
    "#Best parameters: {'max_features': 'auto', 'n_estimators': 50}, kappa = .457\n",
    "\n",
    "rf = RandomForestClassifier(class_weight='balanced',ccp_alpha=0,max_depth=None,min_samples_split=2,\n",
    "                            max_features='sqrt',n_estimators=200)\n",
    "\n",
    "rf.fit(x_train1, y_train1)\n",
    "y_pred = rf.predict(x_test1)\n",
    "print(classification_report(y_test1, y_pred))\n",
    "\n",
    "y_pred_prob = rf.predict_proba(x_test1)[:, 1]\n",
    "threshold = 0.15 #.79 both\n",
    "y_pred_adjusted = (y_pred_prob >= threshold).astype(int)\n",
    "\n",
    "print(\"Adjusted Threshold Classification Report:\\n\", classification_report(y_test1, y_pred_adjusted))\n"
   ]
  },
  {
   "cell_type": "markdown",
   "id": "9607eeeb-eba0-44c2-8456-b810047bbe69",
   "metadata": {},
   "source": [
    "Take his y predictions "
   ]
  },
  {
   "cell_type": "code",
   "execution_count": 15,
   "id": "176ec477-c629-4621-b73e-dcb25c169c25",
   "metadata": {},
   "outputs": [
    {
     "data": {
      "text/plain": [
       "2708     0\n",
       "20959    0\n",
       "13384    0\n",
       "19433    0\n",
       "17463    0\n",
       "        ..\n",
       "21578    0\n",
       "13491    1\n",
       "9374     0\n",
       "10518    0\n",
       "21733    1\n",
       "Name: is_delayed, Length: 6678, dtype: int64"
      ]
     },
     "execution_count": 15,
     "metadata": {},
     "output_type": "execute_result"
    }
   ],
   "source": [
    "y_test1"
   ]
  },
  {
   "cell_type": "code",
   "execution_count": 16,
   "id": "711290f1-7884-449b-9e44-3d0cc2e9633c",
   "metadata": {},
   "outputs": [
    {
     "name": "stdout",
     "output_type": "stream",
     "text": [
      "Second Stage: Minor vs Major Delays\n",
      "              precision    recall  f1-score   support\n",
      "\n",
      " Minor Delay       0.99      0.88      0.94      6487\n",
      " Major Delay       0.17      0.82      0.28       191\n",
      "\n",
      "    accuracy                           0.88      6678\n",
      "   macro avg       0.58      0.85      0.61      6678\n",
      "weighted avg       0.97      0.88      0.92      6678\n",
      "\n"
     ]
    },
    {
     "data": {
      "image/png": "[encoded data removed]",
      "text/plain": [
       "<Figure size 640x480 with 2 Axes>"
      ]
     },
     "metadata": {},
     "output_type": "display_data"
    }
   ],
   "source": [
    "from sklearn.model_selection import train_test_split\n",
    "from sklearn.ensemble import RandomForestClassifier\n",
    "from sklearn.tree import DecisionTreeClassifier\n",
    "from sklearn.preprocessing import StandardScaler, OneHotEncoder\n",
    "from sklearn.compose import ColumnTransformer\n",
    "from sklearn.metrics import classification_report, ConfusionMatrixDisplay\n",
    "import pandas as pd\n",
    "import numpy as np\n",
    "import matplotlib.pyplot as plt\n",
    "import pickle\n",
    "\n",
    "# Function to preprocess data\n",
    "def preprocess_data(data):\n",
    "    # Drop unnecessary columns\n",
    "    data = data.drop(columns=['Unnamed: 0', 'air_time', 'year', 'month', 'day', 'dest', 'dep_time'])\n",
    "\n",
    "    # Create target columns\n",
    "    data['is_delayed'] = data['dep_delay'].apply(lambda x: 1 if x >= 30 else 0)  # On-time vs Delayed\n",
    "    data['delay_severity'] = data['dep_delay'].apply(lambda x: 1 if 30 <= x <= 120 else (2 if x > 120 else None))  # Minor/Major\n",
    "\n",
    "    # Drop dep_delay to avoid leakage\n",
    "    data = data.drop(columns=['dep_delay'])\n",
    "\n",
    "    # Fill missing values\n",
    "    data = data.fillna(data.median(numeric_only=True))  # Fill numeric columns with median\n",
    "    categorical_cols = ['carrier', 'origin', 'type', 'manufacturer', 'model', 'engine']\n",
    "    for col in categorical_cols:\n",
    "        data[col] = data[col].fillna(data[col].mode()[0])  # Fill categorical columns with mode\n",
    "\n",
    "    return data\n",
    "\n",
    "# Load and preprocess the dataset\n",
    "data = pd.read_csv(r'C:\\Users\\annab\\OneDrive\\STAT 764\\Data Sets\\flight_data_full.csv')\n",
    "data = preprocess_data(data)\n",
    "\n",
    "# -----------------------------\n",
    "# Second Stage: Minor vs Major Delays\n",
    "# -----------------------------\n",
    "# Use only delayed flights predicted by the first stage\n",
    "delayed_indices = (y_pred == 1)  # Flights predicted as delayed\n",
    "X_test_delayed = X_test[delayed_indices]  # Features of delayed flights\n",
    "y_test_delayed_actual = data.iloc[X_test_delayed.index]['delay_severity']  # True delay severity\n",
    "\n",
    "# Prepare second stage training data\n",
    "data_delayed = data[data['delay_severity'].notna()]  # Keep only delayed flights\n",
    "X_delayed_full = pd.concat(\n",
    "    [pd.DataFrame(scaler.transform(data_delayed[numerical_cols]), columns=numerical_cols),\n",
    "     pd.DataFrame(encoder.transform(data_delayed[categorical_cols]).toarray(), columns=encoded_cat_cols)], axis=1\n",
    ")\n",
    "y_delayed = data_delayed['delay_severity']  # Minor (1) or Major (2)\n",
    "\n",
    "# Split delayed data into training and testing sets for the second stage\n",
    "X_train_delayed, X_test_delayed, y_train_delayed, y_test_delayed = train_test_split(\n",
    "    X_delayed_full, y_delayed, test_size=0.3, random_state=42\n",
    ")\n",
    "\n",
    "# Train Decision Tree Classifier for the second stage\n",
    "dt_model = DecisionTreeClassifier(random_state=42, max_depth=5, class_weight='balanced')\n",
    "dt_model.fit(X_train_delayed, y_train_delayed)\n",
    "\n",
    "# Predict and evaluate for delayed flights\n",
    "y_pred_dt = dt_model.predict(X_test_delayed)\n",
    "\n",
    "print(\"Second Stage: Minor vs Major Delays\")\n",
    "print(classification_report(y_test_delayed, y_pred_dt, target_names=['Minor Delay', 'Major Delay']))\n",
    "\n",
    "# Plot confusion matrix for the second stage\n",
    "ConfusionMatrixDisplay.from_estimator(dt_model, X_test_delayed, y_test_delayed,\n",
    "                                       display_labels=['Minor Delay', 'Major Delay'], cmap=plt.cm.Blues)\n",
    "plt.title(\"Confusion Matrix for Minor vs Major Delays\")\n",
    "plt.show()"
   ]
  }
 ],
 "metadata": {
  "kernelspec": {
   "display_name": "Python 3 (ipykernel)",
   "language": "python",
   "name": "python3"
  },
  "language_info": {
   "codemirror_mode": {
    "name": "ipython",
    "version": 3
   },
   "file_extension": ".py",
   "mimetype": "text/x-python",
   "name": "python",
   "nbconvert_exporter": "python",
   "pygments_lexer": "ipython3",
   "version": "3.12.4"
  }
 },
 "nbformat": 4,
 "nbformat_minor": 5
}
